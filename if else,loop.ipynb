{
 "cells": [
  {
   "cell_type": "code",
   "execution_count": 1,
   "id": "9e9ae21f-3edf-46f8-b8b7-fc9e7ac14e7f",
   "metadata": {},
   "outputs": [],
   "source": [
    "d={'first':\"Rohit\",'last':\"Kumar\",'Mob':8859788679}"
   ]
  },
  {
   "cell_type": "code",
   "execution_count": 2,
   "id": "8e5251e2-7dbe-4e5f-9e53-03cf2ec37935",
   "metadata": {},
   "outputs": [
    {
     "data": {
      "text/plain": [
       "'Rohit'"
      ]
     },
     "execution_count": 2,
     "metadata": {},
     "output_type": "execute_result"
    }
   ],
   "source": [
    "d['first']"
   ]
  },
  {
   "cell_type": "code",
   "execution_count": 3,
   "id": "62881b68-4a2d-4f81-802c-85c37f2026bf",
   "metadata": {},
   "outputs": [
    {
     "data": {
      "text/plain": [
       "8859788679"
      ]
     },
     "execution_count": 3,
     "metadata": {},
     "output_type": "execute_result"
    }
   ],
   "source": [
    "d['Mob']"
   ]
  },
  {
   "cell_type": "code",
   "execution_count": 5,
   "id": "bf4099ad-ccbf-421f-9ec0-682f2f64841a",
   "metadata": {},
   "outputs": [],
   "source": [
    "d2={'name':\"Rohit\",'email_id':\"rohitkp2512@gmail.com\",'name':\"Mehra\"}"
   ]
  },
  {
   "cell_type": "code",
   "execution_count": 6,
   "id": "156d591b-7b91-4b7d-8488-09df26d3a1cc",
   "metadata": {},
   "outputs": [
    {
     "data": {
      "text/plain": [
       "'Mehra'"
      ]
     },
     "execution_count": 6,
     "metadata": {},
     "output_type": "execute_result"
    }
   ],
   "source": [
    "d2['name']"
   ]
  },
  {
   "cell_type": "code",
   "execution_count": 1,
   "id": "7af2d08c-5a6e-4b54-8de2-b1aa1af731f4",
   "metadata": {},
   "outputs": [],
   "source": [
    "d3={'number':[2,3,4,5,6,7,8],'assignments':(1,2,3,4,5,6,7),'launch_date':{28,12,24},'class_time':{\"web dev\":8,\"Data Science\":9,\"Java With DSA\":7}}"
   ]
  },
  {
   "cell_type": "code",
   "execution_count": 2,
   "id": "0ac23e06-19ca-4415-a854-3e9487908d84",
   "metadata": {},
   "outputs": [
    {
     "ename": "AttributeError",
     "evalue": "'dict' object has no attribute 'list'",
     "output_type": "error",
     "traceback": [
      "\u001b[0;31m---------------------------------------------------------------------------\u001b[0m",
      "\u001b[0;31mAttributeError\u001b[0m                            Traceback (most recent call last)",
      "Cell \u001b[0;32mIn[2], line 1\u001b[0m\n\u001b[0;32m----> 1\u001b[0m \u001b[43md3\u001b[49m\u001b[38;5;241;43m.\u001b[39;49m\u001b[43mlist\u001b[49m()\n",
      "\u001b[0;31mAttributeError\u001b[0m: 'dict' object has no attribute 'list'"
     ]
    }
   ],
   "source": [
    "d3.list()"
   ]
  },
  {
   "cell_type": "code",
   "execution_count": 3,
   "id": "9643f86b-c762-41db-a995-d3f8007ca882",
   "metadata": {},
   "outputs": [
    {
     "data": {
      "text/plain": [
       "(1, 2, 3, 4, 5, 6, 7)"
      ]
     },
     "execution_count": 3,
     "metadata": {},
     "output_type": "execute_result"
    }
   ],
   "source": [
    "d3['assignments']"
   ]
  },
  {
   "cell_type": "code",
   "execution_count": 4,
   "id": "c260c1cc-a01d-43ad-bb79-097f21fad647",
   "metadata": {},
   "outputs": [],
   "source": [
    "d3['mentor']=[\"sudhanshu\",\"Krishna\"]"
   ]
  },
  {
   "cell_type": "code",
   "execution_count": 5,
   "id": "c16dc444-af0a-4abb-8670-7c6db02e7e92",
   "metadata": {},
   "outputs": [
    {
     "ename": "SyntaxError",
     "evalue": "invalid syntax (2456825677.py, line 1)",
     "output_type": "error",
     "traceback": [
      "\u001b[0;36m  Cell \u001b[0;32mIn[5], line 1\u001b[0;36m\u001b[0m\n\u001b[0;31m    d3.del('number')\u001b[0m\n\u001b[0m       ^\u001b[0m\n\u001b[0;31mSyntaxError\u001b[0m\u001b[0;31m:\u001b[0m invalid syntax\n"
     ]
    }
   ],
   "source": [
    "d3.del('number')"
   ]
  },
  {
   "cell_type": "code",
   "execution_count": 6,
   "id": "8d15233e-90e1-49a7-99e0-107be9438126",
   "metadata": {},
   "outputs": [
    {
     "ename": "SyntaxError",
     "evalue": "invalid syntax (2153127550.py, line 1)",
     "output_type": "error",
     "traceback": [
      "\u001b[0;36m  Cell \u001b[0;32mIn[6], line 1\u001b[0;36m\u001b[0m\n\u001b[0;31m    d3.del['number']\u001b[0m\n\u001b[0m       ^\u001b[0m\n\u001b[0;31mSyntaxError\u001b[0m\u001b[0;31m:\u001b[0m invalid syntax\n"
     ]
    }
   ],
   "source": [
    "d3.del['number']"
   ]
  },
  {
   "cell_type": "code",
   "execution_count": 7,
   "id": "f582c5dd-e717-4525-8678-f3f1811c4401",
   "metadata": {},
   "outputs": [],
   "source": [
    "del d3['number']"
   ]
  },
  {
   "cell_type": "code",
   "execution_count": 8,
   "id": "03f47192-376d-4c66-bba0-6e01b61bdafb",
   "metadata": {},
   "outputs": [
    {
     "data": {
      "text/plain": [
       "{'assignments': (1, 2, 3, 4, 5, 6, 7),\n",
       " 'launch_date': {12, 24, 28},\n",
       " 'class_time': {'web dev': 8, 'Data Science': 9, 'Java With DSA': 7},\n",
       " 'mentor': ['sudhanshu', 'Krishna']}"
      ]
     },
     "execution_count": 8,
     "metadata": {},
     "output_type": "execute_result"
    }
   ],
   "source": [
    "d3"
   ]
  },
  {
   "cell_type": "code",
   "execution_count": 9,
   "id": "739520ff-0d93-455f-84d4-aad5f8ea5a8d",
   "metadata": {},
   "outputs": [
    {
     "data": {
      "text/plain": [
       "dict_keys(['assignments', 'launch_date', 'class_time', 'mentor'])"
      ]
     },
     "execution_count": 9,
     "metadata": {},
     "output_type": "execute_result"
    }
   ],
   "source": [
    "d3.keys()"
   ]
  },
  {
   "cell_type": "code",
   "execution_count": 10,
   "id": "981d7cd8-fb37-41b3-b482-620a0c39d767",
   "metadata": {},
   "outputs": [
    {
     "data": {
      "text/plain": [
       "['assignments', 'launch_date', 'class_time', 'mentor']"
      ]
     },
     "execution_count": 10,
     "metadata": {},
     "output_type": "execute_result"
    }
   ],
   "source": [
    "list(d3.keys())"
   ]
  },
  {
   "cell_type": "code",
   "execution_count": 11,
   "id": "d2fddfe1-6ee9-4f39-8277-de044c49a09d",
   "metadata": {},
   "outputs": [
    {
     "data": {
      "text/plain": [
       "[(1, 2, 3, 4, 5, 6, 7),\n",
       " {12, 24, 28},\n",
       " {'web dev': 8, 'Data Science': 9, 'Java With DSA': 7},\n",
       " ['sudhanshu', 'Krishna']]"
      ]
     },
     "execution_count": 11,
     "metadata": {},
     "output_type": "execute_result"
    }
   ],
   "source": [
    "list(d3.values())"
   ]
  },
  {
   "cell_type": "code",
   "execution_count": 12,
   "id": "777e719f-c344-4c5e-b5ec-30fcfaca071f",
   "metadata": {},
   "outputs": [
    {
     "data": {
      "text/plain": [
       "[('assignments', (1, 2, 3, 4, 5, 6, 7)),\n",
       " ('launch_date', {12, 24, 28}),\n",
       " ('class_time', {'web dev': 8, 'Data Science': 9, 'Java With DSA': 7}),\n",
       " ('mentor', ['sudhanshu', 'Krishna'])]"
      ]
     },
     "execution_count": 12,
     "metadata": {},
     "output_type": "execute_result"
    }
   ],
   "source": [
    "list(d3.items())"
   ]
  },
  {
   "cell_type": "code",
   "execution_count": 4,
   "id": "48500985-28e7-45f3-a43f-a0ec6a206d3a",
   "metadata": {},
   "outputs": [
    {
     "name": "stdin",
     "output_type": "stream",
     "text": [
      "Enter price 1200\n"
     ]
    },
    {
     "name": "stdout",
     "output_type": "stream",
     "text": [
      "I will not purchase\n"
     ]
    }
   ],
   "source": [
    "price=int(input(\"Enter price\"))\n",
    "if(price>1000):\n",
    "    print(\"I will not purchase\")\n",
    "else :\n",
    "        print(\"I will purchase\")"
   ]
  },
  {
   "cell_type": "code",
   "execution_count": 12,
   "id": "abb30c24-af09-4440-9017-e874623182d9",
   "metadata": {},
   "outputs": [
    {
     "name": "stdin",
     "output_type": "stream",
     "text": [
      "Enter your marks 40\n"
     ]
    },
    {
     "name": "stdout",
     "output_type": "stream",
     "text": [
      "You are shifted to A2 batch\n"
     ]
    }
   ],
   "source": [
    "marks=int(input(\"Enter your marks\"))\n",
    "if marks>=80:\n",
    "    print(\"You are shifted to A0 batch\")\n",
    "elif marks>=60 and marks<80:\n",
    "    print(\"You are shifted to A1 batch\")\n",
    "elif marks>=40 and marks<60:\n",
    "    print(\"You are shifted to A2 batch\")\n",
    "else:\n",
    "    print(\"You are shifted to A3 batch\")"
   ]
  },
  {
   "cell_type": "code",
   "execution_count": 15,
   "id": "376b5de6-f244-437a-8c32-5505ea3860cc",
   "metadata": {},
   "outputs": [
    {
     "name": "stdin",
     "output_type": "stream",
     "text": [
      "Enter Price 6000\n"
     ]
    },
    {
     "name": "stdout",
     "output_type": "stream",
     "text": [
      "I will not purchased\n",
      "This is too much\n"
     ]
    }
   ],
   "source": [
    "price=int(input(\"Enter Price\"))\n",
    "if price>1000:\n",
    "    print(\"I will not purchased\")\n",
    "    if price>5000:\n",
    "        print(\"This is too much\")\n",
    "elif price<2000:\n",
    "        print(\"Its ok\")\n",
    "elif price<1000:\n",
    "    print(\"I will purchase\")\n",
    "else :\n",
    "    print(\"Not Interested\")"
   ]
  },
  {
   "cell_type": "code",
   "execution_count": 16,
   "id": "814b2d19-2a91-44e0-8128-70d29ae51f03",
   "metadata": {},
   "outputs": [],
   "source": [
    "l=[1,2,3,4,5,6,7,8]"
   ]
  },
  {
   "cell_type": "code",
   "execution_count": 18,
   "id": "855ed986-5730-4980-8616-e97e7014bdb7",
   "metadata": {},
   "outputs": [
    {
     "name": "stdout",
     "output_type": "stream",
     "text": [
      "2\n",
      "3\n",
      "4\n",
      "5\n",
      "6\n",
      "7\n",
      "8\n",
      "9\n"
     ]
    }
   ],
   "source": [
    "for i in l:\n",
    "    print(i+1)\n",
    "    "
   ]
  },
  {
   "cell_type": "code",
   "execution_count": 23,
   "id": "d2c7bacb-e176-4e41-94e2-e95ef165f40b",
   "metadata": {},
   "outputs": [
    {
     "name": "stdout",
     "output_type": "stream",
     "text": [
      "2\n",
      "3\n",
      "4\n",
      "5\n",
      "6\n",
      "7\n",
      "8\n",
      "9\n"
     ]
    },
    {
     "data": {
      "text/plain": [
       "[2, 3, 4, 5, 6, 7, 8, 9]"
      ]
     },
     "execution_count": 23,
     "metadata": {},
     "output_type": "execute_result"
    }
   ],
   "source": [
    "l1=[]\n",
    "for i in l:\n",
    "    print(i+1)\n",
    "    l1.append(i+1)\n",
    "l1"
   ]
  },
  {
   "cell_type": "code",
   "execution_count": 24,
   "id": "ea99c12c-262d-46d8-aab1-d9a0b0a1727f",
   "metadata": {},
   "outputs": [],
   "source": [
    "l=[\"rohit\",\"kumar\",\"pwskills\",\"learning\"]"
   ]
  },
  {
   "cell_type": "code",
   "execution_count": 8,
   "id": "bec0811c-9227-45bf-8bc5-812be00695de",
   "metadata": {},
   "outputs": [],
   "source": [
    "l=[\"rohit\",\"kumar\",\"pwskills\",\"learning\"]"
   ]
  },
  {
   "cell_type": "code",
   "execution_count": 13,
   "id": "f173a9b1-bb93-4c6c-90b6-7bd097bec501",
   "metadata": {},
   "outputs": [
    {
     "name": "stdout",
     "output_type": "stream",
     "text": [
      "rohit\n",
      "kumar\n",
      "pwskills\n",
      "learning\n"
     ]
    },
    {
     "data": {
      "text/plain": [
       "['ROHIT', 'KUMAR', 'PWSKILLS', 'LEARNING']"
      ]
     },
     "execution_count": 13,
     "metadata": {},
     "output_type": "execute_result"
    }
   ],
   "source": [
    "l1=[]\n",
    "for i in l :\n",
    "    print(i)\n",
    "    l1.append(i.upper())\n",
    "l1"
   ]
  },
  {
   "cell_type": "code",
   "execution_count": 14,
   "id": "5bc376c3-cd01-476c-9f1f-d87b9726a6cb",
   "metadata": {},
   "outputs": [],
   "source": [
    "l=[1,2,3,4,5,6,7,8,'ROHIT', 'KUMAR', 'PWSKILLS', 'LEARNING']"
   ]
  },
  {
   "cell_type": "code",
   "execution_count": 18,
   "id": "3ed76a30-2c76-4335-afc7-907ff58000e2",
   "metadata": {},
   "outputs": [],
   "source": [
    "l1_num=[]\n",
    "l2_str=[]\n",
    "for i in l :\n",
    "    if type(i)==int or type(i)==float :\n",
    "        l1_num.append(i)\n",
    "    else :\n",
    "        l2_str.append(i)"
   ]
  },
  {
   "cell_type": "code",
   "execution_count": 19,
   "id": "764efe8d-87fa-49e1-ac0c-3410b6dd7ba2",
   "metadata": {},
   "outputs": [
    {
     "data": {
      "text/plain": [
       "[1, 2, 3, 4, 5, 6, 7, 8]"
      ]
     },
     "execution_count": 19,
     "metadata": {},
     "output_type": "execute_result"
    }
   ],
   "source": [
    "l1_num"
   ]
  },
  {
   "cell_type": "code",
   "execution_count": 20,
   "id": "5d6932a3-a6c1-4a47-bb8e-9d038c20f072",
   "metadata": {},
   "outputs": [
    {
     "data": {
      "text/plain": [
       "['ROHIT', 'KUMAR', 'PWSKILLS', 'LEARNING']"
      ]
     },
     "execution_count": 20,
     "metadata": {},
     "output_type": "execute_result"
    }
   ],
   "source": [
    "l2_str"
   ]
  },
  {
   "cell_type": "code",
   "execution_count": 1,
   "id": "a5c03924-d59f-4ed1-b61f-0cebb3277daf",
   "metadata": {},
   "outputs": [],
   "source": [
    "l=[\"Rohit\",\"Kumar\",\"Learning\",\"PWSkills\"]"
   ]
  },
  {
   "cell_type": "code",
   "execution_count": 2,
   "id": "c4bd1793-481e-4717-a5f0-fd70a03b8170",
   "metadata": {},
   "outputs": [
    {
     "name": "stdout",
     "output_type": "stream",
     "text": [
      "Rohit\n",
      "Kumar\n",
      "Learning\n",
      "PWSkills\n"
     ]
    }
   ],
   "source": [
    "for i in l:\n",
    "    print(i)"
   ]
  },
  {
   "cell_type": "code",
   "execution_count": 3,
   "id": "83c50292-d958-44a8-82d2-817652e999af",
   "metadata": {},
   "outputs": [],
   "source": [
    "l=[\"Rohit\",\"Kumar\",\"Learning\",\"PWSkills\"]"
   ]
  },
  {
   "cell_type": "code",
   "execution_count": 5,
   "id": "ff4516be-cc1e-418c-b484-c32283954298",
   "metadata": {},
   "outputs": [
    {
     "name": "stdout",
     "output_type": "stream",
     "text": [
      "Rohit\n"
     ]
    }
   ],
   "source": [
    "for i in l:\n",
    "    if i==\"Kumar\":\n",
    "        break\n",
    "    print(i)"
   ]
  },
  {
   "cell_type": "code",
   "execution_count": null,
   "id": "0cab671f-e65c-4ef7-91de-34263af9e4ad",
   "metadata": {},
   "outputs": [],
   "source": []
  }
 ],
 "metadata": {
  "kernelspec": {
   "display_name": "Python 3 (ipykernel)",
   "language": "python",
   "name": "python3"
  },
  "language_info": {
   "codemirror_mode": {
    "name": "ipython",
    "version": 3
   },
   "file_extension": ".py",
   "mimetype": "text/x-python",
   "name": "python",
   "nbconvert_exporter": "python",
   "pygments_lexer": "ipython3",
   "version": "3.10.8"
  }
 },
 "nbformat": 4,
 "nbformat_minor": 5
}
