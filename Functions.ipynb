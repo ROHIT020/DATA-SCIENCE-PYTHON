{
 "cells": [
  {
   "cell_type": "code",
   "execution_count": 1,
   "id": "180dfc44-c702-469e-8656-bbb6cc27a643",
   "metadata": {},
   "outputs": [],
   "source": [
    "def test1():\n",
    "    print(\"This is my python learning course\")"
   ]
  },
  {
   "cell_type": "code",
   "execution_count": 2,
   "id": "7a6e376c-b9ba-4c5c-981f-a1edc1afd2f5",
   "metadata": {},
   "outputs": [
    {
     "name": "stdout",
     "output_type": "stream",
     "text": [
      "This is my python learning course\n"
     ]
    }
   ],
   "source": [
    "test1()"
   ]
  },
  {
   "cell_type": "code",
   "execution_count": 7,
   "id": "781e6b69-b0bb-4a07-a667-7f44e358d699",
   "metadata": {},
   "outputs": [],
   "source": [
    "def test2():\n",
    "    \n",
    "    return(\"It returns the data type value as it is\")"
   ]
  },
  {
   "cell_type": "code",
   "execution_count": 8,
   "id": "03c73525-02b8-4390-b6de-e81601cc282e",
   "metadata": {},
   "outputs": [
    {
     "data": {
      "text/plain": [
       "'It returns the data type value as it is'"
      ]
     },
     "execution_count": 8,
     "metadata": {},
     "output_type": "execute_result"
    }
   ],
   "source": [
    "test2()"
   ]
  },
  {
   "cell_type": "code",
   "execution_count": 12,
   "id": "fc3db7bb-e057-434b-91ca-70506fe897f7",
   "metadata": {},
   "outputs": [
    {
     "data": {
      "text/plain": [
       "'It returns the data type value as it is upskillss'"
      ]
     },
     "execution_count": 12,
     "metadata": {},
     "output_type": "execute_result"
    }
   ],
   "source": [
    "test2() + \" upskillss\""
   ]
  },
  {
   "cell_type": "code",
   "execution_count": 15,
   "id": "a8207a56-4611-4691-8979-d45df1cb2c3f",
   "metadata": {},
   "outputs": [],
   "source": [
    "def test3():\n",
    "    a=8+9/4\n",
    "    return a"
   ]
  },
  {
   "cell_type": "code",
   "execution_count": 16,
   "id": "bed6059f-c764-40e2-8f62-9170fd4d7237",
   "metadata": {},
   "outputs": [
    {
     "data": {
      "text/plain": [
       "10.25"
      ]
     },
     "execution_count": 16,
     "metadata": {},
     "output_type": "execute_result"
    }
   ],
   "source": [
    "test3()"
   ]
  },
  {
   "cell_type": "code",
   "execution_count": 17,
   "id": "557c958e-a661-4b3c-ac28-6c46e4279b49",
   "metadata": {},
   "outputs": [],
   "source": [
    "def test4(a,b,c):\n",
    "    a=a+b/c\n",
    "    return a"
   ]
  },
  {
   "cell_type": "code",
   "execution_count": 19,
   "id": "bfa27f28-d221-4357-acf3-c5c24561746b",
   "metadata": {},
   "outputs": [
    {
     "data": {
      "text/plain": [
       "11.0"
      ]
     },
     "execution_count": 19,
     "metadata": {},
     "output_type": "execute_result"
    }
   ],
   "source": [
    "test4(10,5,5)"
   ]
  },
  {
   "cell_type": "code",
   "execution_count": 11,
   "id": "f597df3c-29e6-4339-8ad6-ef6b3503a4f2",
   "metadata": {},
   "outputs": [],
   "source": [
    "l=[1,2,3,4,\"rohit\",\"kumar\",[5,6,7,8,9]]"
   ]
  },
  {
   "cell_type": "code",
   "execution_count": 12,
   "id": "331fba7a-1cc1-409c-b455-90a4e0b16a12",
   "metadata": {},
   "outputs": [],
   "source": [
    "def test5(l):\n",
    "    l1=[]\n",
    "    for i in l:\n",
    "        if type(i)==int or type(i)==float:\n",
    "            l1.append(i)\n",
    "            return l1"
   ]
  },
  {
   "cell_type": "code",
   "execution_count": 13,
   "id": "a9c22004-fff4-429f-9261-426a09ec2881",
   "metadata": {},
   "outputs": [
    {
     "data": {
      "text/plain": [
       "[1]"
      ]
     },
     "execution_count": 13,
     "metadata": {},
     "output_type": "execute_result"
    }
   ],
   "source": [
    "test5(l)"
   ]
  },
  {
   "cell_type": "code",
   "execution_count": 14,
   "id": "16c2571e-8801-4baf-99a9-67fd2aa2f899",
   "metadata": {},
   "outputs": [
    {
     "data": {
      "text/plain": [
       "[1, 2, 3, 4, 'rohit', 'kumar', [5, 6, 7, 8, 9]]"
      ]
     },
     "execution_count": 14,
     "metadata": {},
     "output_type": "execute_result"
    }
   ],
   "source": [
    "l"
   ]
  },
  {
   "cell_type": "code",
   "execution_count": 22,
   "id": "9ce0cb9f-68b8-4c8d-b264-e2b76bcca6bf",
   "metadata": {},
   "outputs": [],
   "source": [
    "def test6(a):\n",
    "    l=[]\n",
    "    for i in a:\n",
    "        if type(i)==list:\n",
    "            for j in i:\n",
    "                l.append(j)\n",
    "        else :\n",
    "                    if type(i)==int or type(i)==float:\n",
    "                        l.append(i)\n",
    "                        return l\n",
    "                "
   ]
  },
  {
   "cell_type": "code",
   "execution_count": 23,
   "id": "fd9d05e7-d0e9-4be0-ab5b-ff85218b9420",
   "metadata": {},
   "outputs": [
    {
     "data": {
      "text/plain": [
       "[1]"
      ]
     },
     "execution_count": 23,
     "metadata": {},
     "output_type": "execute_result"
    }
   ],
   "source": [
    "test6(l)"
   ]
  },
  {
   "cell_type": "code",
   "execution_count": null,
   "id": "631ce722-7f28-4c9d-8b7e-fc2b572a16ec",
   "metadata": {},
   "outputs": [],
   "source": []
  }
 ],
 "metadata": {
  "kernelspec": {
   "display_name": "Python 3 (ipykernel)",
   "language": "python",
   "name": "python3"
  },
  "language_info": {
   "codemirror_mode": {
    "name": "ipython",
    "version": 3
   },
   "file_extension": ".py",
   "mimetype": "text/x-python",
   "name": "python",
   "nbconvert_exporter": "python",
   "pygments_lexer": "ipython3",
   "version": "3.10.8"
  }
 },
 "nbformat": 4,
 "nbformat_minor": 5
}
