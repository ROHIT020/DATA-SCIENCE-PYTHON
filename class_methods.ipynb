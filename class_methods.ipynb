{
 "cells": [
  {
   "cell_type": "markdown",
   "id": "75c1a4a1-34ff-4df5-aeab-eb4070b123cc",
   "metadata": {},
   "source": [
    "This is the simple method for calling the function from a class."
   ]
  },
  {
   "cell_type": "code",
   "execution_count": 11,
   "id": "f16911dc-9cad-483d-9d1b-c2265ad65768",
   "metadata": {},
   "outputs": [],
   "source": [
    "class pwskills:\n",
    "    def __init__(self,name,email):\n",
    "        \n",
    "        self.name=name\n",
    "        \n",
    "        self.email=email\n",
    "        \n",
    "    def students_details(self):\n",
    "        print (self.name,self.email)"
   ]
  },
  {
   "cell_type": "code",
   "execution_count": 12,
   "id": "b3ee0eea-4658-4b5b-a201-09aacc5e3d1a",
   "metadata": {},
   "outputs": [],
   "source": [
    "pw=pwskills(\"mohan\",\"mohan@gmail.com\")"
   ]
  },
  {
   "cell_type": "code",
   "execution_count": 13,
   "id": "744f9688-0c08-4f55-bb34-7c16629b0d52",
   "metadata": {},
   "outputs": [
    {
     "data": {
      "text/plain": [
       "'mohan'"
      ]
     },
     "execution_count": 13,
     "metadata": {},
     "output_type": "execute_result"
    }
   ],
   "source": [
    "pw.name"
   ]
  },
  {
   "cell_type": "code",
   "execution_count": 15,
   "id": "f7d3a428-4b95-4d79-bd64-8044225b60e5",
   "metadata": {},
   "outputs": [
    {
     "data": {
      "text/plain": [
       "'mohan@gmail.com'"
      ]
     },
     "execution_count": 15,
     "metadata": {},
     "output_type": "execute_result"
    }
   ],
   "source": [
    "pw.email"
   ]
  },
  {
   "cell_type": "markdown",
   "id": "9af3f9b6-725c-45b8-901a-50d34d57eb19",
   "metadata": {},
   "source": [
    "Another way to call a function is by calling the classmethod function."
   ]
  },
  {
   "cell_type": "code",
   "execution_count": 20,
   "id": "41c22566-9424-4fc5-9041-657fc5e237d6",
   "metadata": {},
   "outputs": [],
   "source": [
    "class pwskills1:\n",
    "    def __init__(self,name,email):\n",
    "        \n",
    "        self.name=name\n",
    "        \n",
    "        self.email=email\n",
    "        \n",
    "    @classmethod\n",
    "    def details(cls,name,email):\n",
    "        return cls(name,email)\n",
    "               \n",
    "        \n",
    "    def students_details(self):\n",
    "        print (self.name,self.email)"
   ]
  },
  {
   "cell_type": "code",
   "execution_count": 23,
   "id": "00fa3900-84ab-4912-b6af-ff5b734f9dff",
   "metadata": {},
   "outputs": [],
   "source": [
    "pw1=pwskills1.details(\"sudh\",\"sudh@gmail.com\")"
   ]
  },
  {
   "cell_type": "code",
   "execution_count": 24,
   "id": "45a97185-bb7b-43f7-bfe2-f1049212e642",
   "metadata": {},
   "outputs": [
    {
     "data": {
      "text/plain": [
       "'sudh'"
      ]
     },
     "execution_count": 24,
     "metadata": {},
     "output_type": "execute_result"
    }
   ],
   "source": [
    "pw1.name"
   ]
  },
  {
   "cell_type": "code",
   "execution_count": 25,
   "id": "7d49a81d-5173-46ae-832a-a25720612019",
   "metadata": {},
   "outputs": [
    {
     "data": {
      "text/plain": [
       "'sudh@gmail.com'"
      ]
     },
     "execution_count": 25,
     "metadata": {},
     "output_type": "execute_result"
    }
   ],
   "source": [
    "pw1.email"
   ]
  },
  {
   "cell_type": "code",
   "execution_count": 26,
   "id": "c7c91978-4d43-40f2-bb13-de5cf2db93ee",
   "metadata": {},
   "outputs": [
    {
     "name": "stdout",
     "output_type": "stream",
     "text": [
      "sudh sudh@gmail.com\n"
     ]
    }
   ],
   "source": [
    "pw1.students_details()"
   ]
  },
  {
   "cell_type": "code",
   "execution_count": 34,
   "id": "9f264efa-2c18-497b-ac19-80a8a220fc54",
   "metadata": {},
   "outputs": [],
   "source": [
    "class pwskills2:\n",
    "    \n",
    "    mobile_num=8877833242\n",
    "    \n",
    "    def __init__(self,name,email):\n",
    "        \n",
    "        self.name=name\n",
    "        \n",
    "        self.email=email\n",
    "    @classmethod\n",
    "    def change_number(cls,mobile):\n",
    "        pwskills2.mobile_num=mobile\n",
    "        \n",
    "    @classmethod\n",
    "    def details(cls,name,email):\n",
    "        return cls(name,email)\n",
    "               \n",
    "        \n",
    "    def students_details(self):\n",
    "        print (self.name,self.email,pwskills2.mobile_num)"
   ]
  },
  {
   "cell_type": "markdown",
   "id": "df2e83ca-7780-454d-a9df-43fb73d3cf7b",
   "metadata": {
    "slideshow": {
     "slide_type": "notes"
    },
    "tags": []
   },
   "source": [
    "Doing by creating the objects"
   ]
  },
  {
   "cell_type": "code",
   "execution_count": 35,
   "id": "c9cf616b-f282-40e2-b5a3-ee195d153909",
   "metadata": {},
   "outputs": [],
   "source": [
    "pw=pwskills2.details(\"rohan\",\"rohan@gmail.com\")"
   ]
  },
  {
   "cell_type": "code",
   "execution_count": 36,
   "id": "5076a49d-7808-436e-b3b2-edf44ef3bdf4",
   "metadata": {},
   "outputs": [
    {
     "name": "stdout",
     "output_type": "stream",
     "text": [
      "rohan rohan@gmail.com 8877833242\n"
     ]
    }
   ],
   "source": [
    "pw.students_details()"
   ]
  },
  {
   "cell_type": "code",
   "execution_count": 37,
   "id": "952586cf-ea32-4d2f-86c6-99709a8540b2",
   "metadata": {},
   "outputs": [],
   "source": [
    "pw_obj=pwskills2(\"sudh\",\"sudh@gmail.com\")"
   ]
  },
  {
   "cell_type": "code",
   "execution_count": 38,
   "id": "7a0e78b4-39ea-4a4d-8bb9-11c20d56e2ae",
   "metadata": {},
   "outputs": [
    {
     "name": "stdout",
     "output_type": "stream",
     "text": [
      "sudh sudh@gmail.com 8877833242\n"
     ]
    }
   ],
   "source": [
    "pw_obj.students_details()"
   ]
  },
  {
   "cell_type": "code",
   "execution_count": null,
   "id": "355b9728-8b63-421b-9f7b-23b9758b2acf",
   "metadata": {},
   "outputs": [],
   "source": []
  },
  {
   "cell_type": "markdown",
   "id": "cd17c8b3-47d3-43bf-b2f8-9cb156f84c0c",
   "metadata": {},
   "source": [
    "How to change the mobile number."
   ]
  },
  {
   "cell_type": "code",
   "execution_count": 39,
   "id": "c19dd1fd-4c07-4644-8f3d-490776a50a8a",
   "metadata": {},
   "outputs": [],
   "source": [
    "pwskills2.change_number(9118238523)"
   ]
  },
  {
   "cell_type": "code",
   "execution_count": 40,
   "id": "66c3929c-46ac-48b5-8f08-c4db9dc258e2",
   "metadata": {},
   "outputs": [
    {
     "data": {
      "text/plain": [
       "9118238523"
      ]
     },
     "execution_count": 40,
     "metadata": {},
     "output_type": "execute_result"
    }
   ],
   "source": [
    "pwskills2.mobile_num"
   ]
  },
  {
   "cell_type": "code",
   "execution_count": null,
   "id": "8bf7ebf3-20e3-4c7b-bfd3-d79242719d1d",
   "metadata": {},
   "outputs": [],
   "source": []
  },
  {
   "cell_type": "markdown",
   "id": "b826acf5-94d1-4624-94fa-1fbcb9a98a58",
   "metadata": {},
   "source": [
    "How to access the outside fruntion in a class."
   ]
  },
  {
   "cell_type": "code",
   "execution_count": 42,
   "id": "494306c8-0117-4b37-8072-7e5a81d39ab2",
   "metadata": {},
   "outputs": [],
   "source": [
    "class pwskills3:\n",
    "    \n",
    "    mobile_num=8877833242\n",
    "    \n",
    "    def __init__(self,name,email):\n",
    "        \n",
    "        self.name=name\n",
    "        \n",
    "        self.email=email\n",
    "    @classmethod\n",
    "    def change_number(cls,mobile):\n",
    "        pwskills2.mobile_num=mobile\n",
    "        \n",
    "    @classmethod\n",
    "    def details(cls,name,email):\n",
    "        return cls(name,email)\n",
    "               \n",
    "        \n",
    "    def students_details(self):\n",
    "        print (self.name,self.email,pwskills2.mobile_num)"
   ]
  },
  {
   "cell_type": "code",
   "execution_count": 48,
   "id": "bea39f79-c457-4eb1-9b2c-aadb5437a3a7",
   "metadata": {},
   "outputs": [],
   "source": [
    "def course_details(cls,course_name):\n",
    "    print(\"The course name is\",course_name)"
   ]
  },
  {
   "cell_type": "markdown",
   "id": "33edf930-a448-436c-a328-ef576c18c205",
   "metadata": {},
   "source": [
    "To access the outside method/funtion in the class we use classmethod."
   ]
  },
  {
   "cell_type": "code",
   "execution_count": 49,
   "id": "56f0c6fe-f14e-4f8f-8513-7c62280f5e68",
   "metadata": {},
   "outputs": [],
   "source": [
    "pwskills3.course_details=classmethod(course_details)"
   ]
  },
  {
   "cell_type": "code",
   "execution_count": 50,
   "id": "fd9d1913-6f7f-4c07-bf60-6f13ef212adf",
   "metadata": {},
   "outputs": [
    {
     "name": "stdout",
     "output_type": "stream",
     "text": [
      "The course name is data science class\n"
     ]
    }
   ],
   "source": [
    "pwskills3.course_details(\"data science class\")"
   ]
  },
  {
   "cell_type": "code",
   "execution_count": 52,
   "id": "82e3901c-e1dc-4f32-8a42-b1cd105874b3",
   "metadata": {},
   "outputs": [],
   "source": [
    "def mentor(cls,list_of_mentors):\n",
    "    print(list_of_mentors)\n"
   ]
  },
  {
   "cell_type": "code",
   "execution_count": 53,
   "id": "3905bd6f-e27a-476c-bd64-22ad5a26fc46",
   "metadata": {},
   "outputs": [],
   "source": [
    "pwskills3.mentor=classmethod(mentor)"
   ]
  },
  {
   "cell_type": "code",
   "execution_count": 55,
   "id": "d0a3bdda-811f-40cd-a025-43208086aef1",
   "metadata": {},
   "outputs": [
    {
     "name": "stdout",
     "output_type": "stream",
     "text": [
      "['sudhanshu', 'krish nayak']\n"
     ]
    }
   ],
   "source": [
    "pwskills3.mentor([\"sudhanshu\",\"krish nayak\"])"
   ]
  },
  {
   "cell_type": "code",
   "execution_count": null,
   "id": "039042c1-5b9f-4d9b-8f33-22c285ef0db3",
   "metadata": {},
   "outputs": [],
   "source": []
  },
  {
   "cell_type": "markdown",
   "id": "48f8376e-d4ef-4a73-9700-848d6a60b746",
   "metadata": {},
   "source": [
    "Deleting the methods in a class."
   ]
  },
  {
   "cell_type": "code",
   "execution_count": 56,
   "id": "2d86197b-990d-42e9-8a35-5f44562af3e4",
   "metadata": {},
   "outputs": [],
   "source": [
    "class pwskills4 : \n",
    "    \n",
    "    mobile_num = 912342424\n",
    "    \n",
    "    def __init__(self , name , email) :\n",
    "        \n",
    "        self.name = name \n",
    "        self.email = email\n",
    "    \n",
    "    @classmethod\n",
    "    def change_number(cls, mobile):\n",
    "        pwskills2.mobile_num = mobile\n",
    "    \n",
    "    @classmethod\n",
    "    def details(cls ,name, email ):\n",
    "        return cls(name , email)\n",
    "        \n",
    "    def students_details(self):\n",
    "        print(self.name , self.email,pwskills2.mobile_num)"
   ]
  },
  {
   "cell_type": "code",
   "execution_count": 57,
   "id": "559e8606-0144-4895-9c99-2269838885de",
   "metadata": {},
   "outputs": [],
   "source": [
    "del pwskills4.change_number"
   ]
  },
  {
   "cell_type": "code",
   "execution_count": 58,
   "id": "0cd0596a-feb8-4a34-b068-8bb83ea7f278",
   "metadata": {},
   "outputs": [],
   "source": [
    "delattr(pwskills4,\"details\")"
   ]
  },
  {
   "cell_type": "code",
   "execution_count": 59,
   "id": "3e0678e0-3989-4a7a-aba3-9391f7876916",
   "metadata": {},
   "outputs": [],
   "source": [
    "delattr(pwskills4,\"students_details\")"
   ]
  },
  {
   "cell_type": "code",
   "execution_count": 60,
   "id": "fa33cd49-6005-48ed-bb0a-0b5b3d121704",
   "metadata": {},
   "outputs": [
    {
     "ename": "AttributeError",
     "evalue": "type object 'pwskills4' has no attribute 'details'",
     "output_type": "error",
     "traceback": [
      "\u001b[0;31m---------------------------------------------------------------------------\u001b[0m",
      "\u001b[0;31mAttributeError\u001b[0m                            Traceback (most recent call last)",
      "Cell \u001b[0;32mIn[60], line 1\u001b[0m\n\u001b[0;32m----> 1\u001b[0m \u001b[43mpwskills4\u001b[49m\u001b[38;5;241;43m.\u001b[39;49m\u001b[43mdetails\u001b[49m()\n",
      "\u001b[0;31mAttributeError\u001b[0m: type object 'pwskills4' has no attribute 'details'"
     ]
    }
   ],
   "source": [
    "pwskills4.details()"
   ]
  },
  {
   "cell_type": "code",
   "execution_count": null,
   "id": "333a9d1b-4276-45f4-a995-c687c3fa3ba8",
   "metadata": {},
   "outputs": [],
   "source": []
  }
 ],
 "metadata": {
  "kernelspec": {
   "display_name": "Python 3 (ipykernel)",
   "language": "python",
   "name": "python3"
  },
  "language_info": {
   "codemirror_mode": {
    "name": "ipython",
    "version": 3
   },
   "file_extension": ".py",
   "mimetype": "text/x-python",
   "name": "python",
   "nbconvert_exporter": "python",
   "pygments_lexer": "ipython3",
   "version": "3.10.8"
  }
 },
 "nbformat": 4,
 "nbformat_minor": 5
}
